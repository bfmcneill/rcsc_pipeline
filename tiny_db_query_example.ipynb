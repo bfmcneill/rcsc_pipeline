{
 "cells": [
  {
   "cell_type": "code",
   "execution_count": null,
   "id": "368fbde0-0b5f-40a4-972e-ef5b5ff13774",
   "metadata": {
    "pycharm": {
     "name": "#%%\n"
    }
   },
   "outputs": [],
   "source": [
    "from tinydb import TinyDB, Query\n",
    "import pathlib"
   ]
  },
  {
   "cell_type": "code",
   "execution_count": null,
   "id": "0a60ad4d-3fbe-474b-97f3-73b44594c33e",
   "metadata": {
    "pycharm": {
     "name": "#%%\n"
    }
   },
   "outputs": [],
   "source": [
    "db_json = pathlib.Path.cwd() / 'db.json'\n",
    "print(f'db_json.exists(): {db_json.exists()}')"
   ]
  },
  {
   "cell_type": "code",
   "execution_count": null,
   "id": "b6439176-2f08-4ae2-af6a-fc41e3ef74d4",
   "metadata": {
    "pycharm": {
     "name": "#%%\n"
    }
   },
   "outputs": [],
   "source": [
    "db=TinyDB(db_json)"
   ]
  },
  {
   "cell_type": "code",
   "execution_count": null,
   "id": "16eb75ec-b74d-454e-a40b-9043035163f2",
   "metadata": {
    "pycharm": {
     "name": "#%%\n"
    }
   },
   "outputs": [],
   "source": [
    "submissions_tb=db.table('submission_tb')\n",
    "comments_tb = db.table('comment_tb')"
   ]
  },
  {
   "cell_type": "code",
   "execution_count": null,
   "id": "828ee065-865f-4024-a222-4a71f7874c93",
   "metadata": {
    "pycharm": {
     "name": "#%%\n"
    }
   },
   "outputs": [],
   "source": [
    "Submission = Query()"
   ]
  },
  {
   "cell_type": "code",
   "execution_count": null,
   "id": "4a352fe9-eda5-4af4-8419-0fe89d526388",
   "metadata": {
    "pycharm": {
     "name": "#%%\n"
    }
   },
   "outputs": [],
   "source": [
    "comments_tb.all()"
   ]
  }
 ],
 "metadata": {
  "kernelspec": {
   "display_name": "Python 3 (ipykernel)",
   "language": "python",
   "name": "python3"
  },
  "language_info": {
   "codemirror_mode": {
    "name": "ipython",
    "version": 3
   },
   "file_extension": ".py",
   "mimetype": "text/x-python",
   "name": "python",
   "nbconvert_exporter": "python",
   "pygments_lexer": "ipython3",
   "version": "3.10.4"
  }
 },
 "nbformat": 4,
 "nbformat_minor": 5
}
